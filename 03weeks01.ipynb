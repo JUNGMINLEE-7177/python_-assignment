{
 "cells": [
  {
   "cell_type": "code",
   "execution_count": null,
   "metadata": {},
   "outputs": [
    {
     "ename": "TypeError",
     "evalue": "int() can't convert non-string with explicit base",
     "output_type": "error",
     "traceback": [
      "\u001b[31m---------------------------------------------------------------------------\u001b[39m",
      "\u001b[31mTypeError\u001b[39m                                 Traceback (most recent call last)",
      "\u001b[36mCell\u001b[39m\u001b[36m \u001b[39m\u001b[32mIn[4]\u001b[39m\u001b[32m, line 11\u001b[39m\n\u001b[32m      9\u001b[39m     numb=\u001b[38;5;28mint\u001b[39m(num,\u001b[32m8\u001b[39m)\n\u001b[32m     10\u001b[39m \u001b[38;5;28;01mif\u001b[39;00m jinsu == \u001b[32m2\u001b[39m:\n\u001b[32m---> \u001b[39m\u001b[32m11\u001b[39m     numb=\u001b[38;5;28;43mint\u001b[39;49m\u001b[43m(\u001b[49m\u001b[43mnum\u001b[49m\u001b[43m,\u001b[49m\u001b[32;43m2\u001b[39;49m\u001b[43m)\u001b[49m\n\u001b[32m     14\u001b[39m \u001b[38;5;28mprint\u001b[39m(\u001b[33m\"\u001b[39m\u001b[33m16진수\u001b[39m\u001b[33m\"\u001b[39m+\u001b[38;5;28mhex\u001b[39m(numb)+\u001b[33m\"\u001b[39m\u001b[33m입니다.\u001b[39m\u001b[33m\"\u001b[39m)\n\u001b[32m     15\u001b[39m \u001b[38;5;28mprint\u001b[39m(\u001b[33m\"\u001b[39m\u001b[33m10진수\u001b[39m\u001b[33m\"\u001b[39m+num+\u001b[33m\"\u001b[39m\u001b[33m입니다.\u001b[39m\u001b[33m\"\u001b[39m)\n",
      "\u001b[31mTypeError\u001b[39m: int() can't convert non-string with explicit base"
     ]
    }
   ],
   "source": [
    "jinsu = int(input(\"입력 진수 결정(16/10/8/2)>\"))\n",
    "num = input(\"값 입력>\")\n",
    "\n",
    "if jinsu == 16:\n",
    "    numb = int(num, 16)\n",
    "elif jinsu == 10:\n",
    "    numb = int(num, 10)\n",
    "elif jinsu == 8:\n",
    "    numb = int(num, 8)\n",
    "elif jinsu == 2:\n",
    "    numb = int(num, 2)\n",
    "else:\n",
    "    print(\"지원하지 않는 진수입니다.\")\n",
    "    exit()\n",
    "\n",
    "print(\"16진수 \" + hex(numb) + \" 입니다.\")\n",
    "print(\"10진수 \" + str(numb) + \" 입니다.\")\n",
    "print(\"8진수 \" + oct(numb) + \" 입니다.\")\n",
    "print(\"2진수 \" + bin(numb) + \" 입니다.\")"
   ]
  }
 ],
 "metadata": {
  "kernelspec": {
   "display_name": "Python 3",
   "language": "python",
   "name": "python3"
  },
  "language_info": {
   "codemirror_mode": {
    "name": "ipython",
    "version": 3
   },
   "file_extension": ".py",
   "mimetype": "text/x-python",
   "name": "python",
   "nbconvert_exporter": "python",
   "pygments_lexer": "ipython3",
   "version": "3.11.3"
  }
 },
 "nbformat": 4,
 "nbformat_minor": 2
}
